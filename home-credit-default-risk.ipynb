{
 "cells": [
  {
   "cell_type": "markdown",
   "metadata": {},
   "source": [
    "# Home Credit Default Risk #\n",
    "### Random Forest ###"
   ]
  },
  {
   "cell_type": "markdown",
   "metadata": {},
   "source": [
    "## Packages ##"
   ]
  },
  {
   "cell_type": "code",
   "execution_count": 145,
   "metadata": {},
   "outputs": [],
   "source": [
    "import pandas as pd\n",
    "import numpy as np\n",
    "\n",
    "import seaborn as sns\n",
    "import matplotlib.pyplot as plt\n",
    "\n",
    "import os"
   ]
  },
  {
   "cell_type": "markdown",
   "metadata": {},
   "source": [
    "## Loading Data ##"
   ]
  },
  {
   "cell_type": "code",
   "execution_count": 14,
   "metadata": {},
   "outputs": [
    {
     "name": "stdout",
     "output_type": "stream",
     "text": [
      "['application_test.csv', 'application_train.csv', 'bureau.csv', 'bureau_balance.csv', 'credit_card_balance.csv', 'HomeCredit_columns_description.csv', 'installments_payments.csv', 'POS_CASH_balance.csv', 'previous_application.csv', 'sample_submission.csv']\n"
     ]
    }
   ],
   "source": [
    "print(os.listdir())"
   ]
  },
  {
   "cell_type": "code",
   "execution_count": 190,
   "metadata": {},
   "outputs": [
    {
     "data": {
      "text/html": [
       "<div>\n",
       "<style scoped>\n",
       "    .dataframe tbody tr th:only-of-type {\n",
       "        vertical-align: middle;\n",
       "    }\n",
       "\n",
       "    .dataframe tbody tr th {\n",
       "        vertical-align: top;\n",
       "    }\n",
       "\n",
       "    .dataframe thead th {\n",
       "        text-align: right;\n",
       "    }\n",
       "</style>\n",
       "<table border=\"1\" class=\"dataframe\">\n",
       "  <thead>\n",
       "    <tr style=\"text-align: right;\">\n",
       "      <th></th>\n",
       "      <th>SK_ID_CURR</th>\n",
       "      <th>TARGET</th>\n",
       "      <th>NAME_CONTRACT_TYPE</th>\n",
       "      <th>CODE_GENDER</th>\n",
       "      <th>FLAG_OWN_CAR</th>\n",
       "      <th>FLAG_OWN_REALTY</th>\n",
       "      <th>CNT_CHILDREN</th>\n",
       "      <th>AMT_INCOME_TOTAL</th>\n",
       "      <th>AMT_CREDIT</th>\n",
       "      <th>AMT_ANNUITY</th>\n",
       "      <th>...</th>\n",
       "      <th>FLAG_DOCUMENT_18</th>\n",
       "      <th>FLAG_DOCUMENT_19</th>\n",
       "      <th>FLAG_DOCUMENT_20</th>\n",
       "      <th>FLAG_DOCUMENT_21</th>\n",
       "      <th>AMT_REQ_CREDIT_BUREAU_HOUR</th>\n",
       "      <th>AMT_REQ_CREDIT_BUREAU_DAY</th>\n",
       "      <th>AMT_REQ_CREDIT_BUREAU_WEEK</th>\n",
       "      <th>AMT_REQ_CREDIT_BUREAU_MON</th>\n",
       "      <th>AMT_REQ_CREDIT_BUREAU_QRT</th>\n",
       "      <th>AMT_REQ_CREDIT_BUREAU_YEAR</th>\n",
       "    </tr>\n",
       "  </thead>\n",
       "  <tbody>\n",
       "    <tr>\n",
       "      <th>0</th>\n",
       "      <td>100002</td>\n",
       "      <td>1</td>\n",
       "      <td>Cash loans</td>\n",
       "      <td>M</td>\n",
       "      <td>N</td>\n",
       "      <td>Y</td>\n",
       "      <td>0</td>\n",
       "      <td>202500.0</td>\n",
       "      <td>406597.5</td>\n",
       "      <td>24700.5</td>\n",
       "      <td>...</td>\n",
       "      <td>0</td>\n",
       "      <td>0</td>\n",
       "      <td>0</td>\n",
       "      <td>0</td>\n",
       "      <td>0.0</td>\n",
       "      <td>0.0</td>\n",
       "      <td>0.0</td>\n",
       "      <td>0.0</td>\n",
       "      <td>0.0</td>\n",
       "      <td>1.0</td>\n",
       "    </tr>\n",
       "    <tr>\n",
       "      <th>1</th>\n",
       "      <td>100003</td>\n",
       "      <td>0</td>\n",
       "      <td>Cash loans</td>\n",
       "      <td>F</td>\n",
       "      <td>N</td>\n",
       "      <td>N</td>\n",
       "      <td>0</td>\n",
       "      <td>270000.0</td>\n",
       "      <td>1293502.5</td>\n",
       "      <td>35698.5</td>\n",
       "      <td>...</td>\n",
       "      <td>0</td>\n",
       "      <td>0</td>\n",
       "      <td>0</td>\n",
       "      <td>0</td>\n",
       "      <td>0.0</td>\n",
       "      <td>0.0</td>\n",
       "      <td>0.0</td>\n",
       "      <td>0.0</td>\n",
       "      <td>0.0</td>\n",
       "      <td>0.0</td>\n",
       "    </tr>\n",
       "    <tr>\n",
       "      <th>2</th>\n",
       "      <td>100004</td>\n",
       "      <td>0</td>\n",
       "      <td>Revolving loans</td>\n",
       "      <td>M</td>\n",
       "      <td>Y</td>\n",
       "      <td>Y</td>\n",
       "      <td>0</td>\n",
       "      <td>67500.0</td>\n",
       "      <td>135000.0</td>\n",
       "      <td>6750.0</td>\n",
       "      <td>...</td>\n",
       "      <td>0</td>\n",
       "      <td>0</td>\n",
       "      <td>0</td>\n",
       "      <td>0</td>\n",
       "      <td>0.0</td>\n",
       "      <td>0.0</td>\n",
       "      <td>0.0</td>\n",
       "      <td>0.0</td>\n",
       "      <td>0.0</td>\n",
       "      <td>0.0</td>\n",
       "    </tr>\n",
       "    <tr>\n",
       "      <th>3</th>\n",
       "      <td>100006</td>\n",
       "      <td>0</td>\n",
       "      <td>Cash loans</td>\n",
       "      <td>F</td>\n",
       "      <td>N</td>\n",
       "      <td>Y</td>\n",
       "      <td>0</td>\n",
       "      <td>135000.0</td>\n",
       "      <td>312682.5</td>\n",
       "      <td>29686.5</td>\n",
       "      <td>...</td>\n",
       "      <td>0</td>\n",
       "      <td>0</td>\n",
       "      <td>0</td>\n",
       "      <td>0</td>\n",
       "      <td>NaN</td>\n",
       "      <td>NaN</td>\n",
       "      <td>NaN</td>\n",
       "      <td>NaN</td>\n",
       "      <td>NaN</td>\n",
       "      <td>NaN</td>\n",
       "    </tr>\n",
       "    <tr>\n",
       "      <th>4</th>\n",
       "      <td>100007</td>\n",
       "      <td>0</td>\n",
       "      <td>Cash loans</td>\n",
       "      <td>M</td>\n",
       "      <td>N</td>\n",
       "      <td>Y</td>\n",
       "      <td>0</td>\n",
       "      <td>121500.0</td>\n",
       "      <td>513000.0</td>\n",
       "      <td>21865.5</td>\n",
       "      <td>...</td>\n",
       "      <td>0</td>\n",
       "      <td>0</td>\n",
       "      <td>0</td>\n",
       "      <td>0</td>\n",
       "      <td>0.0</td>\n",
       "      <td>0.0</td>\n",
       "      <td>0.0</td>\n",
       "      <td>0.0</td>\n",
       "      <td>0.0</td>\n",
       "      <td>0.0</td>\n",
       "    </tr>\n",
       "  </tbody>\n",
       "</table>\n",
       "<p>5 rows × 122 columns</p>\n",
       "</div>"
      ],
      "text/plain": [
       "   SK_ID_CURR  TARGET NAME_CONTRACT_TYPE CODE_GENDER FLAG_OWN_CAR  \\\n",
       "0      100002       1         Cash loans           M            N   \n",
       "1      100003       0         Cash loans           F            N   \n",
       "2      100004       0    Revolving loans           M            Y   \n",
       "3      100006       0         Cash loans           F            N   \n",
       "4      100007       0         Cash loans           M            N   \n",
       "\n",
       "  FLAG_OWN_REALTY  CNT_CHILDREN  AMT_INCOME_TOTAL  AMT_CREDIT  AMT_ANNUITY  \\\n",
       "0               Y             0          202500.0    406597.5      24700.5   \n",
       "1               N             0          270000.0   1293502.5      35698.5   \n",
       "2               Y             0           67500.0    135000.0       6750.0   \n",
       "3               Y             0          135000.0    312682.5      29686.5   \n",
       "4               Y             0          121500.0    513000.0      21865.5   \n",
       "\n",
       "              ...              FLAG_DOCUMENT_18 FLAG_DOCUMENT_19  \\\n",
       "0             ...                             0                0   \n",
       "1             ...                             0                0   \n",
       "2             ...                             0                0   \n",
       "3             ...                             0                0   \n",
       "4             ...                             0                0   \n",
       "\n",
       "  FLAG_DOCUMENT_20 FLAG_DOCUMENT_21 AMT_REQ_CREDIT_BUREAU_HOUR  \\\n",
       "0                0                0                        0.0   \n",
       "1                0                0                        0.0   \n",
       "2                0                0                        0.0   \n",
       "3                0                0                        NaN   \n",
       "4                0                0                        0.0   \n",
       "\n",
       "  AMT_REQ_CREDIT_BUREAU_DAY  AMT_REQ_CREDIT_BUREAU_WEEK  \\\n",
       "0                       0.0                         0.0   \n",
       "1                       0.0                         0.0   \n",
       "2                       0.0                         0.0   \n",
       "3                       NaN                         NaN   \n",
       "4                       0.0                         0.0   \n",
       "\n",
       "   AMT_REQ_CREDIT_BUREAU_MON  AMT_REQ_CREDIT_BUREAU_QRT  \\\n",
       "0                        0.0                        0.0   \n",
       "1                        0.0                        0.0   \n",
       "2                        0.0                        0.0   \n",
       "3                        NaN                        NaN   \n",
       "4                        0.0                        0.0   \n",
       "\n",
       "   AMT_REQ_CREDIT_BUREAU_YEAR  \n",
       "0                         1.0  \n",
       "1                         0.0  \n",
       "2                         0.0  \n",
       "3                         NaN  \n",
       "4                         0.0  \n",
       "\n",
       "[5 rows x 122 columns]"
      ]
     },
     "execution_count": 190,
     "metadata": {},
     "output_type": "execute_result"
    }
   ],
   "source": [
    "app_train = pd.read_csv('application_train.csv')\n",
    "app_test = pd.read_csv('application_test.csv')\n",
    "descriptions = pd.read_csv('HomeCredit_columns_description.csv', encoding = 'latin-1')\n",
    "\n",
    "app_train.head()"
   ]
  },
  {
   "cell_type": "markdown",
   "metadata": {},
   "source": [
    "## Exploratory Data Analysis ##"
   ]
  },
  {
   "cell_type": "markdown",
   "metadata": {},
   "source": [
    "### Shape of Data Sets ###"
   ]
  },
  {
   "cell_type": "code",
   "execution_count": 66,
   "metadata": {},
   "outputs": [
    {
     "name": "stdout",
     "output_type": "stream",
     "text": [
      "(307511, 122)\n",
      "(48744, 121)\n"
     ]
    }
   ],
   "source": [
    "print(app_train.shape)\n",
    "print(app_test.shape)"
   ]
  },
  {
   "cell_type": "markdown",
   "metadata": {},
   "source": [
    "### Checking for Missingness ###"
   ]
  },
  {
   "cell_type": "code",
   "execution_count": 70,
   "metadata": {},
   "outputs": [
    {
     "data": {
      "text/plain": [
       "COMMONAREA_AVG              0.698723\n",
       "COMMONAREA_MEDI             0.698723\n",
       "COMMONAREA_MODE             0.698723\n",
       "NONLIVINGAPARTMENTS_MODE    0.694330\n",
       "NONLIVINGAPARTMENTS_MEDI    0.694330\n",
       "NONLIVINGAPARTMENTS_AVG     0.694330\n",
       "FONDKAPREMONT_MODE          0.683862\n",
       "LIVINGAPARTMENTS_MEDI       0.683550\n",
       "LIVINGAPARTMENTS_AVG        0.683550\n",
       "LIVINGAPARTMENTS_MODE       0.683550\n",
       "FLOORSMIN_MODE              0.678486\n",
       "FLOORSMIN_AVG               0.678486\n",
       "FLOORSMIN_MEDI              0.678486\n",
       "YEARS_BUILD_AVG             0.664978\n",
       "YEARS_BUILD_MEDI            0.664978\n",
       "YEARS_BUILD_MODE            0.664978\n",
       "OWN_CAR_AGE                 0.659908\n",
       "LANDAREA_MODE               0.593767\n",
       "LANDAREA_MEDI               0.593767\n",
       "LANDAREA_AVG                0.593767\n",
       "BASEMENTAREA_AVG            0.585160\n",
       "BASEMENTAREA_MEDI           0.585160\n",
       "BASEMENTAREA_MODE           0.585160\n",
       "EXT_SOURCE_1                0.563811\n",
       "NONLIVINGAREA_AVG           0.551792\n",
       "NONLIVINGAREA_MODE          0.551792\n",
       "NONLIVINGAREA_MEDI          0.551792\n",
       "ELEVATORS_MEDI              0.532960\n",
       "ELEVATORS_MODE              0.532960\n",
       "ELEVATORS_AVG               0.532960\n",
       "WALLSMATERIAL_MODE          0.508408\n",
       "APARTMENTS_MODE             0.507497\n",
       "APARTMENTS_MEDI             0.507497\n",
       "APARTMENTS_AVG              0.507497\n",
       "ENTRANCES_MEDI              0.503488\n",
       "ENTRANCES_MODE              0.503488\n",
       "ENTRANCES_AVG               0.503488\n",
       "LIVINGAREA_MODE             0.501933\n",
       "LIVINGAREA_MEDI             0.501933\n",
       "LIVINGAREA_AVG              0.501933\n",
       "HOUSETYPE_MODE              0.501761\n",
       "dtype: float64"
      ]
     },
     "execution_count": 70,
     "metadata": {},
     "output_type": "execute_result"
    }
   ],
   "source": [
    "missing_pcg = app_train.isnull().sum()/len(app_train)\n",
    "missing_pcg[missing_pcg > 0.5].sort_values(ascending = False)"
   ]
  },
  {
   "cell_type": "markdown",
   "metadata": {},
   "source": [
    "Many columns have very high levels of missingness. Many of these may be important. I will impute values when needed later."
   ]
  },
  {
   "cell_type": "markdown",
   "metadata": {},
   "source": [
    "### One Hot Encoding ###"
   ]
  },
  {
   "cell_type": "markdown",
   "metadata": {},
   "source": [
    "#### Checking Number of Columns for Each Type ####"
   ]
  },
  {
   "cell_type": "code",
   "execution_count": 61,
   "metadata": {},
   "outputs": [
    {
     "data": {
      "text/plain": [
       "float64    65\n",
       "int64      41\n",
       "object     16\n",
       "dtype: int64"
      ]
     },
     "execution_count": 61,
     "metadata": {},
     "output_type": "execute_result"
    }
   ],
   "source": [
    "app_train.dtypes.value_counts()"
   ]
  },
  {
   "cell_type": "markdown",
   "metadata": {},
   "source": [
    "#### Checking Names of 'Object' Types ####"
   ]
  },
  {
   "cell_type": "code",
   "execution_count": 59,
   "metadata": {},
   "outputs": [
    {
     "data": {
      "text/plain": [
       "Index(['NAME_CONTRACT_TYPE', 'CODE_GENDER', 'FLAG_OWN_CAR', 'FLAG_OWN_REALTY',\n",
       "       'NAME_TYPE_SUITE', 'NAME_INCOME_TYPE', 'NAME_EDUCATION_TYPE',\n",
       "       'NAME_FAMILY_STATUS', 'NAME_HOUSING_TYPE', 'OCCUPATION_TYPE',\n",
       "       'WEEKDAY_APPR_PROCESS_START', 'ORGANIZATION_TYPE', 'FONDKAPREMONT_MODE',\n",
       "       'HOUSETYPE_MODE', 'WALLSMATERIAL_MODE', 'EMERGENCYSTATE_MODE'],\n",
       "      dtype='object')"
      ]
     },
     "execution_count": 59,
     "metadata": {},
     "output_type": "execute_result"
    }
   ],
   "source": [
    "app_train.dtypes[app_train.dtypes == 'object'].index"
   ]
  },
  {
   "cell_type": "markdown",
   "metadata": {},
   "source": [
    "#### Adding Dummy Variables ####"
   ]
  },
  {
   "cell_type": "code",
   "execution_count": 191,
   "metadata": {},
   "outputs": [
    {
     "name": "stdout",
     "output_type": "stream",
     "text": [
      "(307511, 243)\n",
      "(48744, 242)\n"
     ]
    }
   ],
   "source": [
    "app_train = pd.get_dummies(app_train)\n",
    "app_test = pd.get_dummies(app_test)\n",
    "\n",
    "app_TARGET = app_train['TARGET']\n",
    "\n",
    "app_train, app_test = app_train.align(app_test, join = 'inner', axis = 1)\n",
    "app_train['TARGET'] = app_TARGET\n",
    "\n",
    "print(app_train.shape)\n",
    "print(app_test.shape)"
   ]
  },
  {
   "cell_type": "markdown",
   "metadata": {},
   "source": [
    "### Checking Distributions of Non-Binary Variables ###"
   ]
  },
  {
   "cell_type": "code",
   "execution_count": 112,
   "metadata": {},
   "outputs": [
    {
     "data": {
      "text/html": [
       "<div>\n",
       "<style scoped>\n",
       "    .dataframe tbody tr th:only-of-type {\n",
       "        vertical-align: middle;\n",
       "    }\n",
       "\n",
       "    .dataframe tbody tr th {\n",
       "        vertical-align: top;\n",
       "    }\n",
       "\n",
       "    .dataframe thead th {\n",
       "        text-align: right;\n",
       "    }\n",
       "</style>\n",
       "<table border=\"1\" class=\"dataframe\">\n",
       "  <thead>\n",
       "    <tr style=\"text-align: right;\">\n",
       "      <th></th>\n",
       "      <th>mean</th>\n",
       "      <th>std</th>\n",
       "      <th>min</th>\n",
       "      <th>50%</th>\n",
       "      <th>max</th>\n",
       "    </tr>\n",
       "  </thead>\n",
       "  <tbody>\n",
       "    <tr>\n",
       "      <th>SK_ID_CURR</th>\n",
       "      <td>278180.518577</td>\n",
       "      <td>102790.175348</td>\n",
       "      <td>1.000020e+05</td>\n",
       "      <td>278202.000000</td>\n",
       "      <td>4.562550e+05</td>\n",
       "    </tr>\n",
       "    <tr>\n",
       "      <th>CNT_CHILDREN</th>\n",
       "      <td>0.417052</td>\n",
       "      <td>0.722121</td>\n",
       "      <td>0.000000e+00</td>\n",
       "      <td>0.000000</td>\n",
       "      <td>1.900000e+01</td>\n",
       "    </tr>\n",
       "    <tr>\n",
       "      <th>AMT_INCOME_TOTAL</th>\n",
       "      <td>168797.919297</td>\n",
       "      <td>237123.146279</td>\n",
       "      <td>2.565000e+04</td>\n",
       "      <td>147150.000000</td>\n",
       "      <td>1.170000e+08</td>\n",
       "    </tr>\n",
       "    <tr>\n",
       "      <th>AMT_CREDIT</th>\n",
       "      <td>599025.999706</td>\n",
       "      <td>402490.776996</td>\n",
       "      <td>4.500000e+04</td>\n",
       "      <td>513531.000000</td>\n",
       "      <td>4.050000e+06</td>\n",
       "    </tr>\n",
       "    <tr>\n",
       "      <th>AMT_ANNUITY</th>\n",
       "      <td>27108.573909</td>\n",
       "      <td>14493.737315</td>\n",
       "      <td>1.615500e+03</td>\n",
       "      <td>24903.000000</td>\n",
       "      <td>2.580255e+05</td>\n",
       "    </tr>\n",
       "    <tr>\n",
       "      <th>AMT_GOODS_PRICE</th>\n",
       "      <td>538396.207429</td>\n",
       "      <td>369446.460540</td>\n",
       "      <td>4.050000e+04</td>\n",
       "      <td>450000.000000</td>\n",
       "      <td>4.050000e+06</td>\n",
       "    </tr>\n",
       "    <tr>\n",
       "      <th>REGION_POPULATION_RELATIVE</th>\n",
       "      <td>0.020868</td>\n",
       "      <td>0.013831</td>\n",
       "      <td>2.900000e-04</td>\n",
       "      <td>0.018850</td>\n",
       "      <td>7.250800e-02</td>\n",
       "    </tr>\n",
       "    <tr>\n",
       "      <th>DAYS_BIRTH</th>\n",
       "      <td>-16036.995067</td>\n",
       "      <td>4363.988632</td>\n",
       "      <td>-2.522900e+04</td>\n",
       "      <td>-15750.000000</td>\n",
       "      <td>-7.489000e+03</td>\n",
       "    </tr>\n",
       "    <tr>\n",
       "      <th>DAYS_EMPLOYED</th>\n",
       "      <td>63815.045904</td>\n",
       "      <td>141275.766519</td>\n",
       "      <td>-1.791200e+04</td>\n",
       "      <td>-1213.000000</td>\n",
       "      <td>3.652430e+05</td>\n",
       "    </tr>\n",
       "    <tr>\n",
       "      <th>DAYS_REGISTRATION</th>\n",
       "      <td>-4986.120328</td>\n",
       "      <td>3522.886321</td>\n",
       "      <td>-2.467200e+04</td>\n",
       "      <td>-4504.000000</td>\n",
       "      <td>0.000000e+00</td>\n",
       "    </tr>\n",
       "    <tr>\n",
       "      <th>DAYS_ID_PUBLISH</th>\n",
       "      <td>-2994.202373</td>\n",
       "      <td>1509.450419</td>\n",
       "      <td>-7.197000e+03</td>\n",
       "      <td>-3254.000000</td>\n",
       "      <td>0.000000e+00</td>\n",
       "    </tr>\n",
       "    <tr>\n",
       "      <th>OWN_CAR_AGE</th>\n",
       "      <td>12.061091</td>\n",
       "      <td>11.944812</td>\n",
       "      <td>0.000000e+00</td>\n",
       "      <td>9.000000</td>\n",
       "      <td>9.100000e+01</td>\n",
       "    </tr>\n",
       "    <tr>\n",
       "      <th>CNT_FAM_MEMBERS</th>\n",
       "      <td>2.152665</td>\n",
       "      <td>0.910682</td>\n",
       "      <td>1.000000e+00</td>\n",
       "      <td>2.000000</td>\n",
       "      <td>2.000000e+01</td>\n",
       "    </tr>\n",
       "    <tr>\n",
       "      <th>REGION_RATING_CLIENT</th>\n",
       "      <td>2.052463</td>\n",
       "      <td>0.509034</td>\n",
       "      <td>1.000000e+00</td>\n",
       "      <td>2.000000</td>\n",
       "      <td>3.000000e+00</td>\n",
       "    </tr>\n",
       "    <tr>\n",
       "      <th>REGION_RATING_CLIENT_W_CITY</th>\n",
       "      <td>2.031521</td>\n",
       "      <td>0.502737</td>\n",
       "      <td>1.000000e+00</td>\n",
       "      <td>2.000000</td>\n",
       "      <td>3.000000e+00</td>\n",
       "    </tr>\n",
       "    <tr>\n",
       "      <th>HOUR_APPR_PROCESS_START</th>\n",
       "      <td>12.063419</td>\n",
       "      <td>3.265832</td>\n",
       "      <td>0.000000e+00</td>\n",
       "      <td>12.000000</td>\n",
       "      <td>2.300000e+01</td>\n",
       "    </tr>\n",
       "    <tr>\n",
       "      <th>EXT_SOURCE_1</th>\n",
       "      <td>0.502130</td>\n",
       "      <td>0.211062</td>\n",
       "      <td>1.456813e-02</td>\n",
       "      <td>0.505998</td>\n",
       "      <td>9.626928e-01</td>\n",
       "    </tr>\n",
       "    <tr>\n",
       "      <th>EXT_SOURCE_2</th>\n",
       "      <td>0.514393</td>\n",
       "      <td>0.191060</td>\n",
       "      <td>8.173617e-08</td>\n",
       "      <td>0.565961</td>\n",
       "      <td>8.549997e-01</td>\n",
       "    </tr>\n",
       "    <tr>\n",
       "      <th>EXT_SOURCE_3</th>\n",
       "      <td>0.510853</td>\n",
       "      <td>0.194844</td>\n",
       "      <td>5.272652e-04</td>\n",
       "      <td>0.535276</td>\n",
       "      <td>8.960095e-01</td>\n",
       "    </tr>\n",
       "    <tr>\n",
       "      <th>OBS_30_CNT_SOCIAL_CIRCLE</th>\n",
       "      <td>1.422245</td>\n",
       "      <td>2.400989</td>\n",
       "      <td>0.000000e+00</td>\n",
       "      <td>0.000000</td>\n",
       "      <td>3.480000e+02</td>\n",
       "    </tr>\n",
       "    <tr>\n",
       "      <th>DEF_30_CNT_SOCIAL_CIRCLE</th>\n",
       "      <td>0.143421</td>\n",
       "      <td>0.446698</td>\n",
       "      <td>0.000000e+00</td>\n",
       "      <td>0.000000</td>\n",
       "      <td>3.400000e+01</td>\n",
       "    </tr>\n",
       "    <tr>\n",
       "      <th>OBS_60_CNT_SOCIAL_CIRCLE</th>\n",
       "      <td>1.405292</td>\n",
       "      <td>2.379803</td>\n",
       "      <td>0.000000e+00</td>\n",
       "      <td>0.000000</td>\n",
       "      <td>3.440000e+02</td>\n",
       "    </tr>\n",
       "    <tr>\n",
       "      <th>DEF_60_CNT_SOCIAL_CIRCLE</th>\n",
       "      <td>0.100049</td>\n",
       "      <td>0.362291</td>\n",
       "      <td>0.000000e+00</td>\n",
       "      <td>0.000000</td>\n",
       "      <td>2.400000e+01</td>\n",
       "    </tr>\n",
       "    <tr>\n",
       "      <th>DAYS_LAST_PHONE_CHANGE</th>\n",
       "      <td>-962.858788</td>\n",
       "      <td>826.808487</td>\n",
       "      <td>-4.292000e+03</td>\n",
       "      <td>-757.000000</td>\n",
       "      <td>0.000000e+00</td>\n",
       "    </tr>\n",
       "    <tr>\n",
       "      <th>AMT_REQ_CREDIT_BUREAU_HOUR</th>\n",
       "      <td>0.006402</td>\n",
       "      <td>0.083849</td>\n",
       "      <td>0.000000e+00</td>\n",
       "      <td>0.000000</td>\n",
       "      <td>4.000000e+00</td>\n",
       "    </tr>\n",
       "    <tr>\n",
       "      <th>AMT_REQ_CREDIT_BUREAU_DAY</th>\n",
       "      <td>0.007000</td>\n",
       "      <td>0.110757</td>\n",
       "      <td>0.000000e+00</td>\n",
       "      <td>0.000000</td>\n",
       "      <td>9.000000e+00</td>\n",
       "    </tr>\n",
       "    <tr>\n",
       "      <th>AMT_REQ_CREDIT_BUREAU_WEEK</th>\n",
       "      <td>0.034362</td>\n",
       "      <td>0.204685</td>\n",
       "      <td>0.000000e+00</td>\n",
       "      <td>0.000000</td>\n",
       "      <td>8.000000e+00</td>\n",
       "    </tr>\n",
       "    <tr>\n",
       "      <th>AMT_REQ_CREDIT_BUREAU_MON</th>\n",
       "      <td>0.267395</td>\n",
       "      <td>0.916002</td>\n",
       "      <td>0.000000e+00</td>\n",
       "      <td>0.000000</td>\n",
       "      <td>2.700000e+01</td>\n",
       "    </tr>\n",
       "    <tr>\n",
       "      <th>AMT_REQ_CREDIT_BUREAU_QRT</th>\n",
       "      <td>0.265474</td>\n",
       "      <td>0.794056</td>\n",
       "      <td>0.000000e+00</td>\n",
       "      <td>0.000000</td>\n",
       "      <td>2.610000e+02</td>\n",
       "    </tr>\n",
       "    <tr>\n",
       "      <th>AMT_REQ_CREDIT_BUREAU_YEAR</th>\n",
       "      <td>1.899974</td>\n",
       "      <td>1.869295</td>\n",
       "      <td>0.000000e+00</td>\n",
       "      <td>1.000000</td>\n",
       "      <td>2.500000e+01</td>\n",
       "    </tr>\n",
       "  </tbody>\n",
       "</table>\n",
       "</div>"
      ],
      "text/plain": [
       "                                      mean            std           min  \\\n",
       "SK_ID_CURR                   278180.518577  102790.175348  1.000020e+05   \n",
       "CNT_CHILDREN                      0.417052       0.722121  0.000000e+00   \n",
       "AMT_INCOME_TOTAL             168797.919297  237123.146279  2.565000e+04   \n",
       "AMT_CREDIT                   599025.999706  402490.776996  4.500000e+04   \n",
       "AMT_ANNUITY                   27108.573909   14493.737315  1.615500e+03   \n",
       "AMT_GOODS_PRICE              538396.207429  369446.460540  4.050000e+04   \n",
       "REGION_POPULATION_RELATIVE        0.020868       0.013831  2.900000e-04   \n",
       "DAYS_BIRTH                   -16036.995067    4363.988632 -2.522900e+04   \n",
       "DAYS_EMPLOYED                 63815.045904  141275.766519 -1.791200e+04   \n",
       "DAYS_REGISTRATION             -4986.120328    3522.886321 -2.467200e+04   \n",
       "DAYS_ID_PUBLISH               -2994.202373    1509.450419 -7.197000e+03   \n",
       "OWN_CAR_AGE                      12.061091      11.944812  0.000000e+00   \n",
       "CNT_FAM_MEMBERS                   2.152665       0.910682  1.000000e+00   \n",
       "REGION_RATING_CLIENT              2.052463       0.509034  1.000000e+00   \n",
       "REGION_RATING_CLIENT_W_CITY       2.031521       0.502737  1.000000e+00   \n",
       "HOUR_APPR_PROCESS_START          12.063419       3.265832  0.000000e+00   \n",
       "EXT_SOURCE_1                      0.502130       0.211062  1.456813e-02   \n",
       "EXT_SOURCE_2                      0.514393       0.191060  8.173617e-08   \n",
       "EXT_SOURCE_3                      0.510853       0.194844  5.272652e-04   \n",
       "OBS_30_CNT_SOCIAL_CIRCLE          1.422245       2.400989  0.000000e+00   \n",
       "DEF_30_CNT_SOCIAL_CIRCLE          0.143421       0.446698  0.000000e+00   \n",
       "OBS_60_CNT_SOCIAL_CIRCLE          1.405292       2.379803  0.000000e+00   \n",
       "DEF_60_CNT_SOCIAL_CIRCLE          0.100049       0.362291  0.000000e+00   \n",
       "DAYS_LAST_PHONE_CHANGE         -962.858788     826.808487 -4.292000e+03   \n",
       "AMT_REQ_CREDIT_BUREAU_HOUR        0.006402       0.083849  0.000000e+00   \n",
       "AMT_REQ_CREDIT_BUREAU_DAY         0.007000       0.110757  0.000000e+00   \n",
       "AMT_REQ_CREDIT_BUREAU_WEEK        0.034362       0.204685  0.000000e+00   \n",
       "AMT_REQ_CREDIT_BUREAU_MON         0.267395       0.916002  0.000000e+00   \n",
       "AMT_REQ_CREDIT_BUREAU_QRT         0.265474       0.794056  0.000000e+00   \n",
       "AMT_REQ_CREDIT_BUREAU_YEAR        1.899974       1.869295  0.000000e+00   \n",
       "\n",
       "                                       50%           max  \n",
       "SK_ID_CURR                   278202.000000  4.562550e+05  \n",
       "CNT_CHILDREN                      0.000000  1.900000e+01  \n",
       "AMT_INCOME_TOTAL             147150.000000  1.170000e+08  \n",
       "AMT_CREDIT                   513531.000000  4.050000e+06  \n",
       "AMT_ANNUITY                   24903.000000  2.580255e+05  \n",
       "AMT_GOODS_PRICE              450000.000000  4.050000e+06  \n",
       "REGION_POPULATION_RELATIVE        0.018850  7.250800e-02  \n",
       "DAYS_BIRTH                   -15750.000000 -7.489000e+03  \n",
       "DAYS_EMPLOYED                 -1213.000000  3.652430e+05  \n",
       "DAYS_REGISTRATION             -4504.000000  0.000000e+00  \n",
       "DAYS_ID_PUBLISH               -3254.000000  0.000000e+00  \n",
       "OWN_CAR_AGE                       9.000000  9.100000e+01  \n",
       "CNT_FAM_MEMBERS                   2.000000  2.000000e+01  \n",
       "REGION_RATING_CLIENT              2.000000  3.000000e+00  \n",
       "REGION_RATING_CLIENT_W_CITY       2.000000  3.000000e+00  \n",
       "HOUR_APPR_PROCESS_START          12.000000  2.300000e+01  \n",
       "EXT_SOURCE_1                      0.505998  9.626928e-01  \n",
       "EXT_SOURCE_2                      0.565961  8.549997e-01  \n",
       "EXT_SOURCE_3                      0.535276  8.960095e-01  \n",
       "OBS_30_CNT_SOCIAL_CIRCLE          0.000000  3.480000e+02  \n",
       "DEF_30_CNT_SOCIAL_CIRCLE          0.000000  3.400000e+01  \n",
       "OBS_60_CNT_SOCIAL_CIRCLE          0.000000  3.440000e+02  \n",
       "DEF_60_CNT_SOCIAL_CIRCLE          0.000000  2.400000e+01  \n",
       "DAYS_LAST_PHONE_CHANGE         -757.000000  0.000000e+00  \n",
       "AMT_REQ_CREDIT_BUREAU_HOUR        0.000000  4.000000e+00  \n",
       "AMT_REQ_CREDIT_BUREAU_DAY         0.000000  9.000000e+00  \n",
       "AMT_REQ_CREDIT_BUREAU_WEEK        0.000000  8.000000e+00  \n",
       "AMT_REQ_CREDIT_BUREAU_MON         0.000000  2.700000e+01  \n",
       "AMT_REQ_CREDIT_BUREAU_QRT         0.000000  2.610000e+02  \n",
       "AMT_REQ_CREDIT_BUREAU_YEAR        1.000000  2.500000e+01  "
      ]
     },
     "execution_count": 112,
     "metadata": {},
     "output_type": "execute_result"
    }
   ],
   "source": [
    "train_describe = app_train.describe().T[['mean', 'std', 'min', '50%', 'max']]\n",
    "train_describe = train_describe[(train_describe['min'] != 0) | (train_describe['max'] != 1)]\n",
    "train_describe"
   ]
  },
  {
   "cell_type": "code",
   "execution_count": 136,
   "metadata": {},
   "outputs": [
    {
     "data": {
      "image/png": "[encoded data removed]",
      "text/plain": [
       "<Figure size 1152x1152 with 30 Axes>"
      ]
     },
     "metadata": {
      "needs_background": "light"
     },
     "output_type": "display_data"
    }
   ],
   "source": [
    "train_hists = app_train[train_describe.index].hist(figsize = (16,16))"
   ]
  },
  {
   "cell_type": "markdown",
   "metadata": {},
   "source": [
    "One note is that 'DAYS_EMPLOYED' appears to have an error. Values are either negative (corresponding to the number of days since obtaining most recent job) or are positive (1000 years). I'm assuming this means currently unemployed."
   ]
  },
  {
   "cell_type": "code",
   "execution_count": 214,
   "metadata": {},
   "outputs": [
    {
     "name": "stdout",
     "output_type": "stream",
     "text": [
      "0.05399646043269404\n",
      "0.0865997453765215\n"
     ]
    }
   ],
   "source": [
    "print(app_train[app_train['DAYS_EMPLOYED'] == 365243]['TARGET'].mean()) # abnormal 'DAYS_EMPLOYED'\n",
    "print(app_train[app_train['DAYS_EMPLOYED'] != 365243]['TARGET'].mean()) # typical 'DAYS_EMPLOYED'"
   ]
  },
  {
   "cell_type": "markdown",
   "metadata": {},
   "source": [
    "The observations with the abnormal 'DAYS_EMPLOYED' tended to default less. As mentioned in another kernel, because it appears to be very relevant whether or not the value is abnormal or not, a new column will be created to indicate whether 'DAYS_EMPLOYED' was abornmal. The abnormal values will then be replaced with missing values."
   ]
  },
  {
   "cell_type": "code",
   "execution_count": 216,
   "metadata": {},
   "outputs": [],
   "source": [
    "app_train['DAYS_EMPLOYED_ABNORMAL'] = app_train[\"DAYS_EMPLOYED\"] == 365243\n",
    "app_train['DAYS_EMPLOYED'].replace({365243: np.nan}, inplace = True)\n",
    "\n",
    "app_test['DAYS_EMPLOYED_ABNORMAL'] = app_test[\"DAYS_EMPLOYED\"] == 365243\n",
    "app_test['DAYS_EMPLOYED'].replace({365243: np.nan}, inplace = True)"
   ]
  },
  {
   "cell_type": "markdown",
   "metadata": {},
   "source": [
    "### Analyzing Pairwise Correlations of Variables Most Correlated with TARGET ###"
   ]
  },
  {
   "cell_type": "code",
   "execution_count": 217,
   "metadata": {},
   "outputs": [
    {
     "data": {
      "image/png": "[encoded data removed]",
      "text/plain": [
       "<Figure size 720x720 with 2 Axes>"
      ]
     },
     "metadata": {
      "needs_background": "light"
     },
     "output_type": "display_data"
    }
   ],
   "source": [
    "train_neg_corr = pd.DataFrame(app_train.corr()['TARGET'].sort_values().head())\n",
    "train_pos_corr = pd.DataFrame(app_train.corr()['TARGET'].sort_values().tail())\n",
    "train_most_corr = train_neg_corr.append(train_pos_corr)\n",
    "\n",
    "fig, ax = plt.subplots(figsize=(10,10))\n",
    "corr = app_train[train_most_corr.index].corr()\n",
    "corr_heatmap = sns.heatmap(corr, linewidths = .5, annot = True, vmin = -0.6, vmax = 0.6, cmap=\"PiYG\")\n",
    "corr_heatmap.set_title('Variable Correlation (highest to TARGET)')\n",
    "plt.show()"
   ]
  },
  {
   "cell_type": "markdown",
   "metadata": {},
   "source": [
    "#### Dropping Variables With Extremely High Pairwise Correlation ####"
   ]
  },
  {
   "cell_type": "code",
   "execution_count": 188,
   "metadata": {},
   "outputs": [],
   "source": [
    "app_train = app_train.drop('REGION_RATING_CLIENT_W_CITY', axis = 1)\n",
    "app_test = app_test.drop('REGION_RATING_CLIENT_W_CITY', axis = 1)"
   ]
  },
  {
   "cell_type": "markdown",
   "metadata": {},
   "source": [
    "## Feature Engineering ##"
   ]
  },
  {
   "cell_type": "markdown",
   "metadata": {},
   "source": [
    "### Combining 'train' and 'test' Sets ###"
   ]
  },
  {
   "cell_type": "code",
   "execution_count": 399,
   "metadata": {},
   "outputs": [],
   "source": [
    "app_all = pd.concat([app_train, app_test], axis = 0, join = \"outer\", ignore_index = True, sort = False)\n",
    "app_all = app_all.sort_values(by = ['SK_ID_CURR'])\n",
    "app_all = app_all.set_index('SK_ID_CURR')"
   ]
  },
  {
   "cell_type": "markdown",
   "metadata": {},
   "source": [
    "### Creating Features from 'app_{train|test}' Set ###"
   ]
  },
  {
   "cell_type": "code",
   "execution_count": 400,
   "metadata": {},
   "outputs": [],
   "source": [
    "app_all['CRED_INC'] = app_all['AMT_CREDIT'] / app_all['AMT_INCOME_TOTAL']\n",
    "app_all['ANN_INC'] = app_all['AMT_ANNUITY'] / app_all['AMT_INCOME_TOTAL']\n",
    "app_all['ANN_CRED'] = app_all['AMT_ANNUITY'] / app_all['AMT_CREDIT']\n",
    "app_all['EMP_BIRTH'] = app_all['DAYS_EMPLOYED'] / app_all['DAYS_BIRTH']\n",
    "app_all[['CRED_INC', 'ANN_INC', 'ANN_CRED', 'EMP_BIRTH']] = app_all[['CRED_INC', 'ANN_INC', 'ANN_CRED', 'EMP_BIRTH']].fillna(0)"
   ]
  },
  {
   "cell_type": "markdown",
   "metadata": {},
   "source": [
    "### Pulling Features From 'bureau' and 'credit_card_balance' Sets ###"
   ]
  },
  {
   "cell_type": "code",
   "execution_count": 401,
   "metadata": {},
   "outputs": [],
   "source": [
    "bureau = pd.read_csv('bureau.csv')\n",
    "\n",
    "CREDIT_DAY_OVERDUE = bureau.groupby(['SK_ID_CURR'])['CREDIT_DAY_OVERDUE'].mean()\n",
    "AMT_CREDIT_MAX_OVERDUE = bureau.groupby(['SK_ID_CURR'])['AMT_CREDIT_MAX_OVERDUE'].mean()\n",
    "AMT_CREDIT_SUM_DEBT = bureau.groupby(['SK_ID_CURR'])['AMT_CREDIT_SUM_DEBT'].mean()\n",
    "AMT_CREDIT_SUM_LIMIT = bureau.groupby(['SK_ID_CURR'])['AMT_CREDIT_SUM_LIMIT'].mean()\n",
    "AMT_CREDIT_SUM_OVERDUE = bureau.groupby(['SK_ID_CURR'])['AMT_CREDIT_SUM_OVERDUE'].mean()\n",
    "SUM_MAX = AMT_CREDIT_SUM_OVERDUE / AMT_CREDIT_MAX_OVERDUE"
   ]
  },
  {
   "cell_type": "code",
   "execution_count": 402,
   "metadata": {},
   "outputs": [],
   "source": [
    "cc_balance = pd.read_csv('credit_card_balance.csv')\n",
    "\n",
    "AMT_BALANCE = cc_balance.groupby(['SK_ID_CURR'])['AMT_BALANCE'].mean()\n",
    "AMT_CREDIT_LIMIT_ACTUAL = cc_balance.groupby(['SK_ID_CURR'])['AMT_CREDIT_LIMIT_ACTUAL'].mean()\n",
    "BAL_LIMIT = AMT_BALANCE / AMT_CREDIT_LIMIT_ACTUAL\n",
    "AMT_PAYMENT_TOTAL_CURRENT = cc_balance.groupby(['SK_ID_CURR'])['AMT_PAYMENT_TOTAL_CURRENT'].mean()\n",
    "TOTAL_BAL = AMT_PAYMENT_TOTAL_CURRENT / AMT_BALANCE"
   ]
  },
  {
   "cell_type": "markdown",
   "metadata": {},
   "source": [
    "### Merging Pulled Features ###"
   ]
  },
  {
   "cell_type": "code",
   "execution_count": 431,
   "metadata": {},
   "outputs": [],
   "source": [
    "new_feats = [CREDIT_DAY_OVERDUE, AMT_CREDIT_MAX_OVERDUE, AMT_CREDIT_SUM_DEBT, \n",
    "             AMT_CREDIT_SUM_LIMIT, AMT_CREDIT_SUM_OVERDUE, SUM_MAX, AMT_BALANCE, AMT_CREDIT_LIMIT_ACTUAL, BAL_LIMIT, \n",
    "             AMT_PAYMENT_TOTAL_CURRENT, TOTAL_BAL]\n",
    "\n",
    "new_feats_df = pd.DataFrame(new_feats).T\n",
    "new_feats_df = new_feats_df.rename(index=str, columns = {\"Unnamed 0\": \"SUM_MAX\", \"Unnamed 1\": \"BAL_LIMIT\", \"Unnamed 2\": \n",
    "                                                         \"TOTAL_BAL\"})\n",
    "\n",
    "new_feats_df = new_feats_df.fillna(0)\n",
    "new_feats_df = new_feats_df.replace(np.inf, 1)\n",
    "\n",
    "new_feats_df = new_feats_df.reset_index()\n",
    "new_feats_df = new_feats_df.astype(dtype = {'SK_ID_CURR': 'int64'})\n",
    "new_feats_df = new_feats_df.set_index('SK_ID_CURR')"
   ]
  },
  {
   "cell_type": "markdown",
   "metadata": {},
   "source": [
    "### Combining Pulled Features with 'app_{train|test}' Set ###"
   ]
  },
  {
   "cell_type": "code",
   "execution_count": 439,
   "metadata": {},
   "outputs": [],
   "source": [
    "app_all = app_all.join(new_feats_df)"
   ]
  },
  {
   "cell_type": "code",
   "execution_count": 452,
   "metadata": {},
   "outputs": [],
   "source": [
    "all_new_feats = app_all[['CRED_INC', 'ANN_INC', 'ANN_CRED', 'EMP_BIRTH', 'CREDIT_DAY_OVERDUE', 'AMT_CREDIT_MAX_OVERDUE', \n",
    "                         'AMT_CREDIT_SUM_DEBT', 'AMT_CREDIT_SUM_LIMIT', 'AMT_CREDIT_SUM_OVERDUE', 'SUM_MAX', 'AMT_BALANCE', \n",
    "                         'AMT_CREDIT_LIMIT_ACTUAL', 'BAL_LIMIT', 'AMT_PAYMENT_TOTAL_CURRENT', 'TOTAL_BAL', 'TARGET']]"
   ]
  },
  {
   "cell_type": "markdown",
   "metadata": {},
   "source": [
    "### Checking for Strong Pairwise Correlation with New Features ###"
   ]
  },
  {
   "cell_type": "code",
   "execution_count": 455,
   "metadata": {},
   "outputs": [
    {
     "data": {
      "image/png": "[encoded data removed]",
      "text/plain": [
       "<Figure size 720x720 with 2 Axes>"
      ]
     },
     "metadata": {
      "needs_background": "light"
     },
     "output_type": "display_data"
    }
   ],
   "source": [
    "fig, ax = plt.subplots(figsize=(10,10))\n",
    "corr = all_new_feats.corr()\n",
    "corr_heatmap = sns.heatmap(corr, linewidths = .5, vmin = -1, vmax = 1, cmap=\"PiYG\")\n",
    "corr_heatmap.set_title('New Variable Correlations')\n",
    "plt.show()"
   ]
  },
  {
   "cell_type": "markdown",
   "metadata": {},
   "source": [
    "It does not appear that there are any extreme pairwise correlations that need removal."
   ]
  },
  {
   "cell_type": "markdown",
   "metadata": {},
   "source": [
    "## Running Random Forest ##"
   ]
  },
  {
   "cell_type": "markdown",
   "metadata": {},
   "source": [
    "### Splitting Data Back into Train & Test Sets ###"
   ]
  },
  {
   "cell_type": "code",
   "execution_count": 491,
   "metadata": {},
   "outputs": [],
   "source": [
    "eng_app_train = app_all[-app_all['TARGET'].isna()]\n",
    "eng_app_test = app_all[app_all['TARGET'].isna()].drop('TARGET', axis = 1)"
   ]
  },
  {
   "cell_type": "code",
   "execution_count": 492,
   "metadata": {},
   "outputs": [],
   "source": [
    "train = eng_app_train.drop('TARGET', axis = 1)\n",
    "train_features = list(train.columns)\n",
    "\n",
    "test = eng_app_test.copy()"
   ]
  },
  {
   "cell_type": "markdown",
   "metadata": {},
   "source": [
    "### Imputing Missing Values with Median ###"
   ]
  },
  {
   "cell_type": "code",
   "execution_count": 493,
   "metadata": {},
   "outputs": [
    {
     "name": "stderr",
     "output_type": "stream",
     "text": [
      "C:\\Users\\Phoenix\\Anaconda3\\lib\\site-packages\\sklearn\\utils\\deprecation.py:58: DeprecationWarning: Class Imputer is deprecated; Imputer was deprecated in version 0.20 and will be removed in 0.22. Import impute.SimpleImputer from sklearn instead.\n",
      "  warnings.warn(msg, category=DeprecationWarning)\n"
     ]
    }
   ],
   "source": [
    "from sklearn.preprocessing import Imputer\n",
    "\n",
    "imputer = Imputer(strategy = 'median')\n",
    "imputer.fit(train)\n",
    "\n",
    "train = imputer.transform(train)\n",
    "test = imputer.transform(test)"
   ]
  },
  {
   "cell_type": "markdown",
   "metadata": {},
   "source": [
    "### Training Data & Obtaining Predictions ###"
   ]
  },
  {
   "cell_type": "code",
   "execution_count": 496,
   "metadata": {},
   "outputs": [],
   "source": [
    "from sklearn.ensemble import RandomForestClassifier\n",
    "\n",
    "random_forest = RandomForestClassifier(n_estimators = 100, n_jobs = -1)\n",
    "random_forest.fit(train, app_TARGET)\n",
    "predictions = random_forest.predict_proba(test)[:, 1]"
   ]
  },
  {
   "cell_type": "markdown",
   "metadata": {},
   "source": [
    "### Creating Submission File ###"
   ]
  },
  {
   "cell_type": "code",
   "execution_count": 507,
   "metadata": {},
   "outputs": [
    {
     "name": "stderr",
     "output_type": "stream",
     "text": [
      "C:\\Users\\Phoenix\\Anaconda3\\lib\\site-packages\\ipykernel_launcher.py:2: SettingWithCopyWarning: \n",
      "A value is trying to be set on a copy of a slice from a DataFrame.\n",
      "Try using .loc[row_indexer,col_indexer] = value instead\n",
      "\n",
      "See the caveats in the documentation: http://pandas.pydata.org/pandas-docs/stable/indexing.html#indexing-view-versus-copy\n",
      "  \n"
     ]
    }
   ],
   "source": [
    "submit = app_test[['SK_ID_CURR']]\n",
    "submit['TARGET'] = predictions\n",
    "submit.to_csv('predictions.csv', index = False)"
   ]
  },
  {
   "cell_type": "code",
   "execution_count": 508,
   "metadata": {},
   "outputs": [
    {
     "data": {
      "text/html": [
       "<div>\n",
       "<style scoped>\n",
       "    .dataframe tbody tr th:only-of-type {\n",
       "        vertical-align: middle;\n",
       "    }\n",
       "\n",
       "    .dataframe tbody tr th {\n",
       "        vertical-align: top;\n",
       "    }\n",
       "\n",
       "    .dataframe thead th {\n",
       "        text-align: right;\n",
       "    }\n",
       "</style>\n",
       "<table border=\"1\" class=\"dataframe\">\n",
       "  <thead>\n",
       "    <tr style=\"text-align: right;\">\n",
       "      <th></th>\n",
       "      <th>SK_ID_CURR</th>\n",
       "      <th>TARGET</th>\n",
       "    </tr>\n",
       "  </thead>\n",
       "  <tbody>\n",
       "    <tr>\n",
       "      <th>0</th>\n",
       "      <td>100001</td>\n",
       "      <td>0.01</td>\n",
       "    </tr>\n",
       "    <tr>\n",
       "      <th>1</th>\n",
       "      <td>100005</td>\n",
       "      <td>0.10</td>\n",
       "    </tr>\n",
       "    <tr>\n",
       "      <th>2</th>\n",
       "      <td>100013</td>\n",
       "      <td>0.03</td>\n",
       "    </tr>\n",
       "    <tr>\n",
       "      <th>3</th>\n",
       "      <td>100028</td>\n",
       "      <td>0.05</td>\n",
       "    </tr>\n",
       "    <tr>\n",
       "      <th>4</th>\n",
       "      <td>100038</td>\n",
       "      <td>0.04</td>\n",
       "    </tr>\n",
       "    <tr>\n",
       "      <th>5</th>\n",
       "      <td>100042</td>\n",
       "      <td>0.06</td>\n",
       "    </tr>\n",
       "    <tr>\n",
       "      <th>6</th>\n",
       "      <td>100057</td>\n",
       "      <td>0.01</td>\n",
       "    </tr>\n",
       "    <tr>\n",
       "      <th>7</th>\n",
       "      <td>100065</td>\n",
       "      <td>0.05</td>\n",
       "    </tr>\n",
       "    <tr>\n",
       "      <th>8</th>\n",
       "      <td>100066</td>\n",
       "      <td>0.04</td>\n",
       "    </tr>\n",
       "    <tr>\n",
       "      <th>9</th>\n",
       "      <td>100067</td>\n",
       "      <td>0.16</td>\n",
       "    </tr>\n",
       "    <tr>\n",
       "      <th>10</th>\n",
       "      <td>100074</td>\n",
       "      <td>0.08</td>\n",
       "    </tr>\n",
       "    <tr>\n",
       "      <th>11</th>\n",
       "      <td>100090</td>\n",
       "      <td>0.04</td>\n",
       "    </tr>\n",
       "    <tr>\n",
       "      <th>12</th>\n",
       "      <td>100091</td>\n",
       "      <td>0.16</td>\n",
       "    </tr>\n",
       "    <tr>\n",
       "      <th>13</th>\n",
       "      <td>100092</td>\n",
       "      <td>0.14</td>\n",
       "    </tr>\n",
       "    <tr>\n",
       "      <th>14</th>\n",
       "      <td>100106</td>\n",
       "      <td>0.02</td>\n",
       "    </tr>\n",
       "    <tr>\n",
       "      <th>15</th>\n",
       "      <td>100107</td>\n",
       "      <td>0.27</td>\n",
       "    </tr>\n",
       "    <tr>\n",
       "      <th>16</th>\n",
       "      <td>100109</td>\n",
       "      <td>0.07</td>\n",
       "    </tr>\n",
       "    <tr>\n",
       "      <th>17</th>\n",
       "      <td>100117</td>\n",
       "      <td>0.02</td>\n",
       "    </tr>\n",
       "    <tr>\n",
       "      <th>18</th>\n",
       "      <td>100128</td>\n",
       "      <td>0.07</td>\n",
       "    </tr>\n",
       "    <tr>\n",
       "      <th>19</th>\n",
       "      <td>100141</td>\n",
       "      <td>0.05</td>\n",
       "    </tr>\n",
       "    <tr>\n",
       "      <th>20</th>\n",
       "      <td>100150</td>\n",
       "      <td>0.01</td>\n",
       "    </tr>\n",
       "    <tr>\n",
       "      <th>21</th>\n",
       "      <td>100168</td>\n",
       "      <td>0.03</td>\n",
       "    </tr>\n",
       "    <tr>\n",
       "      <th>22</th>\n",
       "      <td>100169</td>\n",
       "      <td>0.09</td>\n",
       "    </tr>\n",
       "    <tr>\n",
       "      <th>23</th>\n",
       "      <td>100170</td>\n",
       "      <td>0.09</td>\n",
       "    </tr>\n",
       "    <tr>\n",
       "      <th>24</th>\n",
       "      <td>100171</td>\n",
       "      <td>0.06</td>\n",
       "    </tr>\n",
       "    <tr>\n",
       "      <th>25</th>\n",
       "      <td>100172</td>\n",
       "      <td>0.08</td>\n",
       "    </tr>\n",
       "    <tr>\n",
       "      <th>26</th>\n",
       "      <td>100184</td>\n",
       "      <td>0.05</td>\n",
       "    </tr>\n",
       "    <tr>\n",
       "      <th>27</th>\n",
       "      <td>100187</td>\n",
       "      <td>0.03</td>\n",
       "    </tr>\n",
       "    <tr>\n",
       "      <th>28</th>\n",
       "      <td>100212</td>\n",
       "      <td>0.09</td>\n",
       "    </tr>\n",
       "    <tr>\n",
       "      <th>29</th>\n",
       "      <td>100222</td>\n",
       "      <td>0.07</td>\n",
       "    </tr>\n",
       "    <tr>\n",
       "      <th>...</th>\n",
       "      <td>...</td>\n",
       "      <td>...</td>\n",
       "    </tr>\n",
       "    <tr>\n",
       "      <th>48714</th>\n",
       "      <td>455963</td>\n",
       "      <td>0.10</td>\n",
       "    </tr>\n",
       "    <tr>\n",
       "      <th>48715</th>\n",
       "      <td>455965</td>\n",
       "      <td>0.03</td>\n",
       "    </tr>\n",
       "    <tr>\n",
       "      <th>48716</th>\n",
       "      <td>456007</td>\n",
       "      <td>0.26</td>\n",
       "    </tr>\n",
       "    <tr>\n",
       "      <th>48717</th>\n",
       "      <td>456008</td>\n",
       "      <td>0.05</td>\n",
       "    </tr>\n",
       "    <tr>\n",
       "      <th>48718</th>\n",
       "      <td>456009</td>\n",
       "      <td>0.03</td>\n",
       "    </tr>\n",
       "    <tr>\n",
       "      <th>48719</th>\n",
       "      <td>456010</td>\n",
       "      <td>0.13</td>\n",
       "    </tr>\n",
       "    <tr>\n",
       "      <th>48720</th>\n",
       "      <td>456011</td>\n",
       "      <td>0.03</td>\n",
       "    </tr>\n",
       "    <tr>\n",
       "      <th>48721</th>\n",
       "      <td>456013</td>\n",
       "      <td>0.21</td>\n",
       "    </tr>\n",
       "    <tr>\n",
       "      <th>48722</th>\n",
       "      <td>456028</td>\n",
       "      <td>0.13</td>\n",
       "    </tr>\n",
       "    <tr>\n",
       "      <th>48723</th>\n",
       "      <td>456058</td>\n",
       "      <td>0.15</td>\n",
       "    </tr>\n",
       "    <tr>\n",
       "      <th>48724</th>\n",
       "      <td>456111</td>\n",
       "      <td>0.10</td>\n",
       "    </tr>\n",
       "    <tr>\n",
       "      <th>48725</th>\n",
       "      <td>456114</td>\n",
       "      <td>0.16</td>\n",
       "    </tr>\n",
       "    <tr>\n",
       "      <th>48726</th>\n",
       "      <td>456115</td>\n",
       "      <td>0.03</td>\n",
       "    </tr>\n",
       "    <tr>\n",
       "      <th>48727</th>\n",
       "      <td>456116</td>\n",
       "      <td>0.03</td>\n",
       "    </tr>\n",
       "    <tr>\n",
       "      <th>48728</th>\n",
       "      <td>456119</td>\n",
       "      <td>0.01</td>\n",
       "    </tr>\n",
       "    <tr>\n",
       "      <th>48729</th>\n",
       "      <td>456120</td>\n",
       "      <td>0.05</td>\n",
       "    </tr>\n",
       "    <tr>\n",
       "      <th>48730</th>\n",
       "      <td>456122</td>\n",
       "      <td>0.11</td>\n",
       "    </tr>\n",
       "    <tr>\n",
       "      <th>48731</th>\n",
       "      <td>456123</td>\n",
       "      <td>0.06</td>\n",
       "    </tr>\n",
       "    <tr>\n",
       "      <th>48732</th>\n",
       "      <td>456166</td>\n",
       "      <td>0.08</td>\n",
       "    </tr>\n",
       "    <tr>\n",
       "      <th>48733</th>\n",
       "      <td>456167</td>\n",
       "      <td>0.03</td>\n",
       "    </tr>\n",
       "    <tr>\n",
       "      <th>48734</th>\n",
       "      <td>456168</td>\n",
       "      <td>0.02</td>\n",
       "    </tr>\n",
       "    <tr>\n",
       "      <th>48735</th>\n",
       "      <td>456169</td>\n",
       "      <td>0.04</td>\n",
       "    </tr>\n",
       "    <tr>\n",
       "      <th>48736</th>\n",
       "      <td>456170</td>\n",
       "      <td>0.02</td>\n",
       "    </tr>\n",
       "    <tr>\n",
       "      <th>48737</th>\n",
       "      <td>456189</td>\n",
       "      <td>0.07</td>\n",
       "    </tr>\n",
       "    <tr>\n",
       "      <th>48738</th>\n",
       "      <td>456202</td>\n",
       "      <td>0.26</td>\n",
       "    </tr>\n",
       "    <tr>\n",
       "      <th>48739</th>\n",
       "      <td>456221</td>\n",
       "      <td>0.03</td>\n",
       "    </tr>\n",
       "    <tr>\n",
       "      <th>48740</th>\n",
       "      <td>456222</td>\n",
       "      <td>0.11</td>\n",
       "    </tr>\n",
       "    <tr>\n",
       "      <th>48741</th>\n",
       "      <td>456223</td>\n",
       "      <td>0.04</td>\n",
       "    </tr>\n",
       "    <tr>\n",
       "      <th>48742</th>\n",
       "      <td>456224</td>\n",
       "      <td>0.07</td>\n",
       "    </tr>\n",
       "    <tr>\n",
       "      <th>48743</th>\n",
       "      <td>456250</td>\n",
       "      <td>0.27</td>\n",
       "    </tr>\n",
       "  </tbody>\n",
       "</table>\n",
       "<p>48744 rows × 2 columns</p>\n",
       "</div>"
      ],
      "text/plain": [
       "       SK_ID_CURR  TARGET\n",
       "0          100001    0.01\n",
       "1          100005    0.10\n",
       "2          100013    0.03\n",
       "3          100028    0.05\n",
       "4          100038    0.04\n",
       "5          100042    0.06\n",
       "6          100057    0.01\n",
       "7          100065    0.05\n",
       "8          100066    0.04\n",
       "9          100067    0.16\n",
       "10         100074    0.08\n",
       "11         100090    0.04\n",
       "12         100091    0.16\n",
       "13         100092    0.14\n",
       "14         100106    0.02\n",
       "15         100107    0.27\n",
       "16         100109    0.07\n",
       "17         100117    0.02\n",
       "18         100128    0.07\n",
       "19         100141    0.05\n",
       "20         100150    0.01\n",
       "21         100168    0.03\n",
       "22         100169    0.09\n",
       "23         100170    0.09\n",
       "24         100171    0.06\n",
       "25         100172    0.08\n",
       "26         100184    0.05\n",
       "27         100187    0.03\n",
       "28         100212    0.09\n",
       "29         100222    0.07\n",
       "...           ...     ...\n",
       "48714      455963    0.10\n",
       "48715      455965    0.03\n",
       "48716      456007    0.26\n",
       "48717      456008    0.05\n",
       "48718      456009    0.03\n",
       "48719      456010    0.13\n",
       "48720      456011    0.03\n",
       "48721      456013    0.21\n",
       "48722      456028    0.13\n",
       "48723      456058    0.15\n",
       "48724      456111    0.10\n",
       "48725      456114    0.16\n",
       "48726      456115    0.03\n",
       "48727      456116    0.03\n",
       "48728      456119    0.01\n",
       "48729      456120    0.05\n",
       "48730      456122    0.11\n",
       "48731      456123    0.06\n",
       "48732      456166    0.08\n",
       "48733      456167    0.03\n",
       "48734      456168    0.02\n",
       "48735      456169    0.04\n",
       "48736      456170    0.02\n",
       "48737      456189    0.07\n",
       "48738      456202    0.26\n",
       "48739      456221    0.03\n",
       "48740      456222    0.11\n",
       "48741      456223    0.04\n",
       "48742      456224    0.07\n",
       "48743      456250    0.27\n",
       "\n",
       "[48744 rows x 2 columns]"
      ]
     },
     "execution_count": 508,
     "metadata": {},
     "output_type": "execute_result"
    }
   ],
   "source": [
    "submit"
   ]
  },
  {
   "cell_type": "code",
   "execution_count": null,
   "metadata": {},
   "outputs": [],
   "source": []
  }
 ],
 "metadata": {
  "kernelspec": {
   "display_name": "Python 3",
   "language": "python",
   "name": "python3"
  },
  "language_info": {
   "codemirror_mode": {
    "name": "ipython",
    "version": 3
   },
   "file_extension": ".py",
   "mimetype": "text/x-python",
   "name": "python",
   "nbconvert_exporter": "python",
   "pygments_lexer": "ipython3",
   "version": "3.7.1"
  }
 },
 "nbformat": 4,
 "nbformat_minor": 2
}
